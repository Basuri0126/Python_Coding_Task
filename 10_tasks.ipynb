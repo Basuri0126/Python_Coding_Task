{
  "nbformat": 4,
  "nbformat_minor": 0,
  "metadata": {
    "colab": {
      "provenance": []
    },
    "kernelspec": {
      "name": "python3",
      "display_name": "Python 3"
    },
    "language_info": {
      "name": "python"
    }
  },
  "cells": [
    {
      "cell_type": "markdown",
      "source": [
        "### `Q-1:` Write a function `get_final_line(filename)`, which takes filename as input and return final line of the file.\n",
        "\n",
        "Note: You can choose any file of your choice."
      ],
      "metadata": {
        "id": "MbeMdx5d5qRj"
      }
    },
    {
      "cell_type": "code",
      "source": [
        "# Write code here\n",
        "\n",
        "def get_final_line(filename):\n",
        "  final_line = \"\"\n",
        "  # file = open(filename,'r')\n",
        "  # return file.readlines[-1]\n",
        "  for curr_line in open(filename,'r'):\n",
        "    final_line = curr_line\n",
        "  return final_line\n",
        "\n",
        "get_final_line('sample.txt')\n",
        ""
      ],
      "metadata": {
        "id": "rjx9XRTq5uzD",
        "colab": {
          "base_uri": "https://localhost:8080/",
          "height": 35
        },
        "outputId": "d7cd9f59-2bea-4cff-f59a-a1e9dcbd76ce"
      },
      "execution_count": null,
      "outputs": [
        {
          "output_type": "execute_result",
          "data": {
            "text/plain": [
              "'hi i am amit\\n'"
            ],
            "application/vnd.google.colaboratory.intrinsic+json": {
              "type": "string"
            }
          },
          "metadata": {},
          "execution_count": 5
        }
      ]
    },
    {
      "cell_type": "markdown",
      "source": [
        "###`Q-2:` Read through a text file, line by line. Use a dict to keep track of how many times each vowel (a, e, i, o, and u) appears in the file. Print the resulting tabulation -- dictionary."
      ],
      "metadata": {
        "id": "B87Z6-yQ5wVO"
      }
    },
    {
      "cell_type": "code",
      "source": [
        "# Write code here\n",
        "def find_vowel(filename):\n",
        "  vowels = ['a','e','i','o','u']\n",
        "  d = {i:0 for i in vowels}\n",
        "  for curr_line in open(filename, 'r'):\n",
        "    for ch in curr_line:\n",
        "      if ch in vowels:\n",
        "        d[ch] += 1\n",
        "  return d\n",
        "\n",
        "find_vowel('sample.txt')\n"
      ],
      "metadata": {
        "id": "XeXnOL7X50Sa",
        "colab": {
          "base_uri": "https://localhost:8080/"
        },
        "outputId": "b3b931c2-9751-4b45-e754-ef857ec8ae30"
      },
      "execution_count": null,
      "outputs": [
        {
          "output_type": "execute_result",
          "data": {
            "text/plain": [
              "{'a': 6, 'e': 0, 'i': 9, 'o': 0, 'u': 0}"
            ]
          },
          "metadata": {},
          "execution_count": 6
        }
      ]
    },
    {
      "cell_type": "markdown",
      "source": [
        "###`Q-3:` Create a text file (using an editor, not necessarily Python) containing two tab separated columns, with each column containing a number. Then use Python to read through the file you’ve created. For each line, multiply each first number by the second and include it in the file in third column. In last add a line Total, by summing the value of third column\n",
        "\n"
      ],
      "metadata": {
        "id": "lRqQ2Y295-Gg"
      }
    },
    {
      "cell_type": "markdown",
      "source": [
        "Input File example: That you need to create\n",
        "```\n",
        "1   2\n",
        "3   4\n",
        "5   6\n",
        "7   8\n",
        "9   10\n",
        "\n",
        "```\n",
        "\n",
        "Output File Example:\n",
        "```\n",
        "1   2   2\n",
        "3   4   12\n",
        "5   6   30\n",
        "7   8   56\n",
        "9   10  90\n",
        "Total   190\n",
        "```\n"
      ],
      "metadata": {
        "id": "GtFfahZc6Bvg"
      }
    },
    {
      "cell_type": "code",
      "source": [
        "# write code here\n",
        "with open('sample1.txt','w') as f:\n",
        "  for i in range(1,11,2):\n",
        "    line = f\"{i}\\t{i+1}\\n\"\n",
        "    f.writelines(line)\n",
        "\n",
        "\n"
      ],
      "metadata": {
        "id": "GiKvqHnr5-j2"
      },
      "execution_count": null,
      "outputs": []
    },
    {
      "cell_type": "code",
      "source": [
        "with open('sample1.txt', 'r') as f:\n",
        "  lines = f.read().splitlines()\n",
        "\n",
        "total = 0\n",
        "with open('sample1.txt', 'w') as f:\n",
        "  for line in lines:\n",
        "    a,b = line.split(sep='\\t')\n",
        "    res = int(a) * int(b)\n",
        "    total += res\n",
        "    f.write(\"{}\\t{}\\t{}\\n\".format(a,b, res))\n",
        "  f.write(\"Total\\t\" + str(total))"
      ],
      "metadata": {
        "id": "uPlITa0i21VX"
      },
      "execution_count": null,
      "outputs": []
    },
    {
      "cell_type": "code",
      "source": [
        "print(lines)"
      ],
      "metadata": {
        "colab": {
          "base_uri": "https://localhost:8080/"
        },
        "id": "7ubVfOz3KvPV",
        "outputId": "b2bd24b4-4ef5-449a-efaf-e63cebb34136"
      },
      "execution_count": null,
      "outputs": [
        {
          "output_type": "stream",
          "name": "stdout",
          "text": [
            "['1\\t2', '3\\t4', '5\\t6', '7\\t8', '9\\t10']\n"
          ]
        }
      ]
    },
    {
      "cell_type": "markdown",
      "source": [
        "###`Q-4:` Create line wise reverse of a file\n",
        "Write a function which takes two arguments: the names of the input file (to be read from) and the output file (which will be created)."
      ],
      "metadata": {
        "id": "DunQepHC6J9r"
      }
    },
    {
      "cell_type": "markdown",
      "source": [
        "For example, if a file looks like\n",
        " ```\n",
        "abc def\n",
        "ghi jkl\n",
        "```\n",
        "then the output file will be\n",
        "```\n",
        "fed cba\n",
        "lkj ihg\n",
        "```\n",
        "**Notice**: The newline remains at the end of the string, while the rest of the characters are all reversed."
      ],
      "metadata": {
        "id": "QxWEtFle6Nmu"
      }
    },
    {
      "cell_type": "code",
      "source": [
        "# write code here\n",
        "with open('4.txt', 'w') as f:\n",
        "  f.write(\"this is shivam yadav\\n\")\n",
        "  f.write(\"this is shivam yadav\\n\")\n",
        "  f.write(\"this is shivam yadav\\n\")\n"
      ],
      "metadata": {
        "id": "aIJTJNAq6LD7"
      },
      "execution_count": null,
      "outputs": []
    },
    {
      "cell_type": "code",
      "source": [
        "input_file = '4.txt'\n",
        "output_file = 'output.txt'\n",
        "def reversed(input_file, output_file):\n",
        "  with open(input_file,'r') as f, open(output_file, 'w') as out:\n",
        "    for line in f:\n",
        "      out.write(line.rstrip()[::-1]+'\\n')\n",
        "\n",
        "\n",
        "reversed(input_file, output_file)\n",
        "\n",
        "\n",
        "\n",
        ""
      ],
      "metadata": {
        "id": "dIR2pNDtMXnS"
      },
      "execution_count": null,
      "outputs": []
    },
    {
      "cell_type": "code",
      "source": [
        "with open(input_file, 'r') as f:\n",
        "  for line in f:\n",
        "    print(line)"
      ],
      "metadata": {
        "colab": {
          "base_uri": "https://localhost:8080/"
        },
        "id": "SVD3mgnmmvdh",
        "outputId": "bd5600f5-ec6d-44c7-9643-d4fb38b601be"
      },
      "execution_count": null,
      "outputs": [
        {
          "output_type": "stream",
          "name": "stdout",
          "text": [
            "this is shivam yadav\n",
            "\n",
            "this is shivam yadav\n",
            "\n",
            "this is shivam yadav\n",
            "\n"
          ]
        }
      ]
    },
    {
      "cell_type": "markdown",
      "source": [
        "###`Q-5:` Create a Serialized dict of frequency of words in the file. And from given list of words, using serialized dict show word count.\n",
        "\n",
        "* List of word will be given\n",
        "\n"
      ],
      "metadata": {
        "id": "wqvx3sMY6bou"
      }
    },
    {
      "cell_type": "markdown",
      "source": [
        "Given String\n",
        "\n",
        "```\n",
        "strings = \"\"\"Alice was beginning to get very tired of sitting by her sister\n",
        "            on the bank, and of having nothing to do:  once or twice she had\n",
        "            peeped into the book her sister was reading, but it had no\n",
        "            pictures or conversations in it, `and what is the use of a book,'\n",
        "            thought Alice `without pictures or conversation?'\n",
        "\n",
        "            So she was considering in her own mind (as well as she could,\n",
        "            for the hot day made her feel very sleepy and stupid), whether\n",
        "            the pleasure of making a daisy-chain would be worth the trouble\n",
        "            of getting up and picking the daisies, when suddenly a White\n",
        "            Rabbit with pink eyes ran close by her.\n",
        "\n",
        "            There was nothing so VERY remarkable in that; nor did Alice\n",
        "            think it so VERY much out of the way to hear the Rabbit say to\n",
        "            itself, `Oh dear!  Oh dear!  I shall be late!'  (when she thought\n",
        "            it over afterwards, it occurred to her that she ought to have\n",
        "            wondered at this, but at the time it all seemed quite natural);\n",
        "            but when the Rabbit actually TOOK A WATCH OUT OF ITS WAISTCOAT-\n",
        "            POCKET, and looked at it, and then hurried on, Alice started to\n",
        "            her feet, for it flashed across her mind that she had never\n",
        "            before seen a rabbit with either a waistcoat-pocket, or a watch to\n",
        "            take out of it, and burning with curiosity, she ran across the\n",
        "            field after it, and fortunately was just in time to see it pop\n",
        "            down a large rabbit-hole under the hedge.\"\"\"\n",
        "\n",
        "word_list = ['alice', 'wonder', 'natural']\n",
        "```"
      ],
      "metadata": {
        "id": "uc5MSUWg6cZG"
      }
    },
    {
      "cell_type": "code",
      "source": [
        "# write code here\n",
        "strings = \"\"\"Alice was beginning to get very tired of sitting by her sister\n",
        "            on the bank, and of having nothing to do:  once or twice she had\n",
        "            peeped into the book her sister was reading, but it had no\n",
        "            pictures or conversations in it, `and what is the use of a book,'\n",
        "            thought Alice `without pictures or conversation?'\n",
        "\n",
        "            So she was considering in her own mind (as well as she could,\n",
        "            for the hot day made her feel very sleepy and stupid), whether\n",
        "            the pleasure of making a daisy-chain would be worth the trouble\n",
        "            of getting up and picking the daisies, when suddenly a White\n",
        "            Rabbit with pink eyes ran close by her.\n",
        "\n",
        "            There was nothing so VERY remarkable in that; nor did Alice\n",
        "            think it so VERY much out of the way to hear the Rabbit say to\n",
        "            itself, `Oh dear!  Oh dear!  I shall be late!'  (when she thought\n",
        "            it over afterwards, it occurred to her that she ought to have\n",
        "            wondered at this, but at the time it all seemed quite natural);\n",
        "            but when the Rabbit actually TOOK A WATCH OUT OF ITS WAISTCOAT-\n",
        "            POCKET, and looked at it, and then hurried on, Alice started to\n",
        "            her feet, for it flashed across her mind that she had never\n",
        "            before seen a rabbit with either a waistcoat-pocket, or a watch to\n",
        "            take out of it, and burning with curiosity, she ran across the\n",
        "            field after it, and fortunately was just in time to see it pop\n",
        "            down a large rabbit-hole under the hedge.\"\"\"\n",
        "\n",
        "word_list = ['alice', 'rabbit', 'natural']\n",
        "\n",
        "word_count_dict = dict()\n",
        "for word in strings.lower().split():\n",
        "  try:\n",
        "    word_count_dict[word] +=1\n",
        "  except:\n",
        "    word_count_dict[word] = 1\n",
        "\n",
        "import pickle as pkl\n",
        "\n",
        "file = open('word_count.pkl', 'wb')\n",
        "pkl.dump(word_count_dict, file)\n",
        "file.close()\n",
        "\n",
        "word = pkl.load(open('word_count.pkl', 'rb'))\n",
        "\n",
        "for i in word_list:\n",
        "  try:\n",
        "    print(i, word[i])\n",
        "  except:\n",
        "    print(i,0)"
      ],
      "metadata": {
        "id": "-SmtFFUq6a70",
        "colab": {
          "base_uri": "https://localhost:8080/"
        },
        "outputId": "b3318f33-1ff4-49d3-84ca-31f49ee11ccd"
      },
      "execution_count": null,
      "outputs": [
        {
          "output_type": "stream",
          "name": "stdout",
          "text": [
            "alice 4\n",
            "rabbit 4\n",
            "natural 0\n"
          ]
        }
      ]
    },
    {
      "cell_type": "markdown",
      "source": [
        "### **`Q-6:`** Given a string calculate length of the string using recursion.\n",
        "\n",
        "**Example 1:**\n",
        "\n",
        "Input:\n",
        "```bash\n",
        "\"abcd\"\n",
        "```\n",
        "\n",
        "Output:\n",
        "\n",
        "```bash\n",
        "4\n",
        "```\n",
        "\n",
        "**Example 2:**\n",
        "\n",
        "Input:\n",
        "```bash\n",
        "DataScience\n",
        "```\n",
        "\n",
        "Output:\n",
        "\n",
        "```bash\n",
        "11\n",
        "```\n"
      ],
      "metadata": {
        "id": "Und2HuFW6kAw"
      }
    },
    {
      "cell_type": "code",
      "source": [
        "# Write code here\n",
        "\n",
        "def calculate_length(string):\n",
        "  if string == '':\n",
        "    return 0\n",
        "  else:\n",
        "    return 1 + calculate_length(string[1:])\n",
        "\n",
        "string = 'Datascience'\n",
        "print(calculate_length(string))"
      ],
      "metadata": {
        "id": "9HE7lB5W61gT",
        "colab": {
          "base_uri": "https://localhost:8080/"
        },
        "outputId": "7fab9aa3-5032-4037-c701-03269b8773bb"
      },
      "execution_count": null,
      "outputs": [
        {
          "output_type": "stream",
          "name": "stdout",
          "text": [
            "11\n"
          ]
        }
      ]
    },
    {
      "cell_type": "markdown",
      "source": [
        "### **`Q-7:`** Write a function that accepts two numbers and returns their greatest common divisior. Without using any loop\n",
        "\n",
        "def gcd(int, int) => int\n",
        "\n",
        "```\n",
        "gcd(16,24) will give 8\n",
        "```"
      ],
      "metadata": {
        "id": "iUDvc-jl6759"
      }
    },
    {
      "cell_type": "code",
      "source": [
        "# Write code here\n",
        "def gcd(a,b):\n",
        "  result = min(a,b)\n",
        "  while True:\n",
        "   if(a%result == 0 and b%result== 0):\n",
        "      break\n",
        "   else:\n",
        "    result -= 1\n",
        "  return result\n",
        "\n",
        "\n",
        "print(gcd(16, 24))\n",
        "\n"
      ],
      "metadata": {
        "id": "uMQnojHR7O2S",
        "colab": {
          "base_uri": "https://localhost:8080/"
        },
        "outputId": "9be8f357-9e1c-41a6-baf2-b53565938eb0"
      },
      "execution_count": null,
      "outputs": [
        {
          "output_type": "stream",
          "name": "stdout",
          "text": [
            "8\n"
          ]
        }
      ]
    },
    {
      "cell_type": "code",
      "source": [
        "def gcd2(a,b):\n",
        "  if(a == b):\n",
        "    return a\n",
        "  elif a>b:\n",
        "    return a-b, b\n",
        "  else:\n",
        "      return b-a, a\n",
        "\n",
        "gcd(16, 24)"
      ],
      "metadata": {
        "colab": {
          "base_uri": "https://localhost:8080/"
        },
        "id": "ITaaf7uzOBCR",
        "outputId": "13e1202a-38d4-40d8-8314-507e164a97b6"
      },
      "execution_count": null,
      "outputs": [
        {
          "output_type": "execute_result",
          "data": {
            "text/plain": [
              "8"
            ]
          },
          "metadata": {},
          "execution_count": 25
        }
      ]
    },
    {
      "cell_type": "markdown",
      "source": [
        " ### `Q-8:` String Edit Distance\n",
        "\n",
        " Use your recursive function to write a program that reads two strings from the\n",
        "user and displays the edit distance between them.\n",
        "\n",
        "*The edit distance between two strings is a measure of their similarity—the smaller the edit distance, the more similar the strings are with regard to the minimum number of insert, delete and substitute operations needed to transform one string into the other.*\n",
        "\n",
        "Consider the strings `kitten` and `sitting`. The first string can be transformed\n",
        "into the second string with the following operations:\n",
        "* Substitute the `k` with an `s`,\n",
        "* substitute the `e` with an `i`,\n",
        "* and insert a `g` at the end of the string.\n",
        "\n",
        "This is the smallest number of operations that can be performed to transform kitten into sitting. As a result, the edit distance is `3`.\n",
        "\n",
        "\n",
        "Write a recursive function that computes the edit distance between two strings.\n",
        "\n",
        "Use the following algorithm:\n",
        "\n",
        "```\n",
        "Let s and t be the strings\n",
        "    If the length of s is 0 then\n",
        "        Return the length of t\n",
        "    Else if the length of t is 0 then\n",
        "        Return the length of s\n",
        "    Else\n",
        "        Set cost to 0\n",
        "        If the last character in s does not equal the last character in t then\n",
        "            Set cost to 1\n",
        "        Set d1 equal to the edit distance between all characters except the last one in s, and all characters in t, plus 1\n",
        "        Set d2 equal to the edit distance between all characters in s, and all characters except the last one in t, plus 1\n",
        "\n",
        "        Set d3 equal to the edit distance between all characters except the last one in s, and all characters except the last one in t, plus cost\n",
        "        Return the minimum of d1, d2 and d3\n",
        "```\n",
        "\n",
        "\n",
        "\n"
      ],
      "metadata": {
        "id": "wFD35fva7Q_B"
      }
    },
    {
      "cell_type": "code",
      "source": [
        "# write code here\n",
        "def editdistance(s, t):\n",
        "  if len(s) == 0:\n",
        "    return len(t)\n",
        "  elif len(t) == 0:\n",
        "    return len(s)\n",
        "  else:\n",
        "    cost = 0\n",
        "    if s[-1] != t[-1]:\n",
        "      cost = 1\n",
        "\n",
        "    d1 = editdistance(s[:-1], t) + 1\n",
        "    d2 = editdistance(s, t[:-1]) + 1\n",
        "    d3 = editdistance(s[:-1], t[:-1]) + cost\n",
        "\n",
        "    return min(d1, d2, d3)\n",
        "\n",
        "editdistance('kitten', 'sitting')"
      ],
      "metadata": {
        "id": "zlNy_Q987QOX",
        "colab": {
          "base_uri": "https://localhost:8080/"
        },
        "outputId": "b11a1787-1f3c-4999-d2e1-166a15818e70"
      },
      "execution_count": null,
      "outputs": [
        {
          "output_type": "execute_result",
          "data": {
            "text/plain": [
              "3"
            ]
          },
          "metadata": {},
          "execution_count": 27
        }
      ]
    },
    {
      "cell_type": "markdown",
      "source": [
        "###`Q-9:` Run-Length Encoding\n",
        "\n",
        "Run-length encoding is a simple data compression technique that can be effective when repeated values occur at adjacent positions within a list. Compression is achieved by replacing groups of repeated values with one copy of the value, followed by the number of times that the value should be repeated. For example, the list\n",
        "```\n",
        "[\"A\", \"A\", \"A\", \"A\", \"A\", \"A\", \"A\", \"A\", \"A\", \"A\", \"A\", \"A\", \"B\", \"B\", \"B\", \"B\", \"A\", \"A\", \"A\", \"A\", \"A\", \"A\", \"B\"]\n",
        "```\n",
        "would be compressed as `[\"A\", 12, \"B\", 4, \"A\", 6, \"B\", 1]`.\n",
        "\n",
        "Write a recursive function that implements the run-length compression technique\n",
        "described above. Your function will take a list or a string as its only parameter. It should return the run-length compressed list as its only result. Include a main program that reads a string from the user, compresses it, and displays the run-length encoded result."
      ],
      "metadata": {
        "id": "Hc9e-qES7iAK"
      }
    },
    {
      "cell_type": "code",
      "source": [
        "# Write code here\n",
        "s = [\"A\", \"A\", \"A\", \"A\", \"A\", \"A\", \"A\", \"A\", \"A\", \"A\", \"A\", \"A\", \"B\", \"B\", \"B\", \"B\", \"A\", \"A\", \"A\", \"A\", \"A\", \"A\", \"B\"]\n",
        "\n",
        "l = []\n",
        "\n",
        "def run_encoding(s):\n",
        "  if len(s) == 0:\n",
        "   return []\n",
        "\n",
        "  x =1\n",
        "  temp = []\n",
        "\n",
        "  for i in range(1,len(s)):\n",
        "    if s[i] == s[0]:\n",
        "      x += 1\n",
        "    else:\n",
        "      break\n",
        "  temp = [s[0], x]\n",
        "  return temp + run_encoding(s[x:])\n",
        "\n",
        "run_encoding(s)\n"
      ],
      "metadata": {
        "id": "W2Wb_WzP7qM1",
        "colab": {
          "base_uri": "https://localhost:8080/"
        },
        "outputId": "eec94944-6798-4aa4-fbbe-89f70ba4af91"
      },
      "execution_count": null,
      "outputs": [
        {
          "output_type": "execute_result",
          "data": {
            "text/plain": [
              "['A', 12, 'B', 4, 'A', 6, 'B', 1]"
            ]
          },
          "metadata": {},
          "execution_count": 41
        }
      ]
    },
    {
      "cell_type": "code",
      "source": [
        "s = [\"A\", \"A\", \"A\", \"A\", \"A\", \"A\", \"A\", \"A\", \"A\", \"A\", \"A\", \"A\", \"B\", \"B\", \"B\", \"B\", \"A\", \"A\", \"A\", \"A\", \"A\", \"A\", \"B\"]\n",
        "\n",
        "def run_encoding(s):\n",
        "    if len(s) == 0:\n",
        "        return []\n",
        "\n",
        "    x = 1\n",
        "    temp = []\n",
        "\n",
        "    while x < len(s) and s[0] == s[x]:\n",
        "        x += 1\n",
        "\n",
        "    temp = [s[0], x]\n",
        "\n",
        "    return [temp] + run_encoding(s[x:])\n",
        "\n",
        "run_encoding(s)"
      ],
      "metadata": {
        "colab": {
          "base_uri": "https://localhost:8080/"
        },
        "id": "HoxZN0luoDDd",
        "outputId": "563da143-e5b7-482b-de52-4f3142e08801"
      },
      "execution_count": null,
      "outputs": [
        {
          "output_type": "execute_result",
          "data": {
            "text/plain": [
              "[['A', 12], ['B', 4], ['A', 6], ['B', 1]]"
            ]
          },
          "metadata": {},
          "execution_count": 42
        }
      ]
    },
    {
      "cell_type": "markdown",
      "source": [
        "###`Q-10:` Write a recursive function to convert a decimal to binary"
      ],
      "metadata": {
        "id": "x6A-4vGC8SLs"
      }
    },
    {
      "cell_type": "code",
      "source": [
        "# Write code here\n",
        "ans = []\n",
        "def decimaltoBinary(n):\n",
        "  if n == 0:\n",
        "    return [0] if len(ans) == 0 else ans[::-1]\n",
        "  else:\n",
        "    ans.append(n % 2)\n",
        "    return decimaltoBinary(n//2)\n",
        "\n",
        "decimaltoBinary(5)"
      ],
      "metadata": {
        "id": "izOr6D9V8aME",
        "colab": {
          "base_uri": "https://localhost:8080/"
        },
        "outputId": "ac84cd9b-820a-41ea-ae88-5fbafec8b864"
      },
      "execution_count": null,
      "outputs": [
        {
          "output_type": "execute_result",
          "data": {
            "text/plain": [
              "[1, 0, 1]"
            ]
          },
          "metadata": {},
          "execution_count": 57
        }
      ]
    },
    {
      "cell_type": "code",
      "source": [
        "def DtoB(n):\n",
        "  if n == 0:\n",
        "    return '0'\n",
        "  else:\n",
        "    return DtoB(n >> 1) + str(n & 1)\n",
        "\n",
        "DtoB(5)"
      ],
      "metadata": {
        "colab": {
          "base_uri": "https://localhost:8080/",
          "height": 35
        },
        "id": "EJCrS3uVpHh8",
        "outputId": "91442a44-6cd6-4ab0-ee7e-27d5838c8e28"
      },
      "execution_count": null,
      "outputs": [
        {
          "output_type": "execute_result",
          "data": {
            "text/plain": [
              "'0101'"
            ],
            "application/vnd.google.colaboratory.intrinsic+json": {
              "type": "string"
            }
          },
          "metadata": {},
          "execution_count": 60
        }
      ]
    },
    {
      "cell_type": "code",
      "source": [
        ""
      ],
      "metadata": {
        "id": "pIqFTQyLr2ik"
      },
      "execution_count": null,
      "outputs": []
    }
  ]
}